{
  "cells": [
    {
      "cell_type": "code",
      "execution_count": null,
      "metadata": {
        "id": "Y1onB6kUvo4Z"
      },
      "outputs": [],
      "source": [
        "# import libraries (you may add additional imports but you may not have to)\n",
        "import pandas as pd\n",
        "import numpy as np\n",
        "from sklearn.neighbors import NearestNeighbors\n",
        "from sklearn.preprocessing import StandardScaler\n",
        "\n",
        "# Load datasets\n",
        "books = pd.read_csv('books.csv', delimiter=';', encoding='latin-1')\n",
        "ratings = pd.read_csv('ratings.csv', delimiter=';', encoding='latin-1')\n",
        "\n",
        "# Display the first few rows of each dataset\n",
        "books.head(), ratings.head()\n"
      ]
    },
    {
      "cell_type": "code",
      "execution_count": null,
      "metadata": {
        "id": "iAQGqqO_vo4d"
      },
      "outputs": [],
      "source": [
        "# get data files\n",
        "!wget https://cdn.freecodecamp.org/project-data/books/book-crossings.zip\n",
        "\n",
        "!unzip book-crossings.zip\n",
        "\n",
        "books_filename = 'BX-Books.csv'\n",
        "ratings_filename = 'BX-Book-Ratings.csv'\n",
        "\n",
        "# Filter users with less than 200 ratings\n",
        "user_counts = ratings['User-ID'].value_counts()\n",
        "valid_users = user_counts[user_counts >= 200].index\n",
        "ratings_filtered = ratings[ratings['User-ID'].isin(valid_users)]\n",
        "\n",
        "# Filter books with less than 100 ratings\n",
        "book_counts = ratings_filtered['ISBN'].value_counts()\n",
        "valid_books = book_counts[book_counts >= 100].index\n",
        "ratings_filtered = ratings_filtered[ratings_filtered['ISBN'].isin(valid_books)]\n",
        "\n",
        "# Merge with book titles\n",
        "data = ratings_filtered.merge(books, on='ISBN')\n",
        "\n",
        "# Pivot table to create user-item matrix\n",
        "user_item_matrix = data.pivot_table(index='User-ID', columns='Book-Title', values='Book-Rating')\n",
        "\n",
        "# Fill NaNs with 0 (for items not rated by a user)\n",
        "user_item_matrix = user_item_matrix.fillna(0)\n"
      ]
    },
    {
      "cell_type": "code",
      "execution_count": null,
      "metadata": {
        "id": "NClILWOiEd6Q"
      },
      "outputs": [],
      "source": [
        "# import csv data into dataframes\n",
        "df_books = pd.read_csv(\n",
        "    books_filename,\n",
        "    encoding = \"ISO-8859-1\",\n",
        "    sep=\";\",\n",
        "    header=0,\n",
        "    names=['isbn', 'title', 'author'],\n",
        "    usecols=['isbn', 'title', 'author'],\n",
        "    dtype={'isbn': 'str', 'title': 'str', 'author': 'str'})\n",
        "\n",
        "df_ratings = pd.read_csv(\n",
        "    ratings_filename,\n",
        "    encoding = \"ISO-8859-1\",\n",
        "    sep=\";\",\n",
        "    header=0,\n",
        "    names=['user', 'isbn', 'rating'],\n",
        "    usecols=['user', 'isbn', 'rating'],\n",
        "    dtype={'user': 'int32', 'isbn': 'str', 'rating': 'float32'})"
      ]
    },
    {
      "cell_type": "code",
      "execution_count": null,
      "metadata": {
        "id": "xAcXjkCFCh0A"
      },
      "outputs": [],
      "source": [
        "# add your code here - consider creating a new cell for each section of code"
      ]
    },
    {
      "cell_type": "code",
      "execution_count": null,
      "metadata": {
        "id": "f5ZUd-L1SQz7"
      },
      "outputs": [],
      "source": [
        "# function to return recommended books - this will be tested\n",
        "# Convert the user-item matrix to a NumPy array and scale it\n",
        "X = user_item_matrix.values\n",
        "scaler = StandardScaler()\n",
        "X_scaled = scaler.fit_transform(X)\n",
        "\n",
        "# Train KNN model\n",
        "knn = NearestNeighbors(n_neighbors=6, algorithm='brute', metric='cosine')\n",
        "knn.fit(X_scaled)\n"
      ]
    },
    {
      "cell_type": "code",
      "execution_count": null,
      "metadata": {
        "id": "jd2SLCh8oxMh"
      },
      "outputs": [],
      "source": [
        "def get_recommends(book_title):\n",
        "    # Check if the book is in the dataset\n",
        "    if book_title not in user_item_matrix.columns:\n",
        "        raise ValueError(f\"Book '{book_title}' not found in the dataset.\")\n",
        "\n",
        "    # Find the index of the book\n",
        "    book_index = user_item_matrix.columns.get_loc(book_title)\n",
        "\n",
        "    # Create a query vector for the given book\n",
        "    query_vector = user_item_matrix.iloc[:, book_index].values.reshape(1, -1)\n",
        "    query_vector_scaled = scaler.transform(query_vector)\n",
        "\n",
        "    # Find the nearest neighbors\n",
        "    distances, indices = knn.kneighbors(query_vector_scaled)\n",
        "\n",
        "    # Get the book titles and distances\n",
        "    similar_books = []\n",
        "    for i in range(1, 6):  # Skip the first result because it is the book itself\n",
        "        book_idx = indices[0][i]\n",
        "        distance = distances[0][i]\n",
        "        similar_book_title = user_item_matrix.columns[book_idx]\n",
        "        similar_books.append([similar_book_title, distance])\n",
        "\n",
        "    return [book_title, similar_books]\n"
      ]
    }
  ],
  "metadata": {
    "colab": {
      "name": "fcc_book_recommendation_knn.ipynb",
      "provenance": []
    },
    "kernelspec": {
      "display_name": "Python 3",
      "language": "python",
      "name": "python3"
    },
    "language_info": {
      "codemirror_mode": {
        "name": "ipython",
        "version": 3
      },
      "file_extension": ".py",
      "mimetype": "text/x-python",
      "name": "python",
      "nbconvert_exporter": "python",
      "pygments_lexer": "ipython3",
      "version": "3.6.5"
    }
  },
  "nbformat": 4,
  "nbformat_minor": 0
}